{
 "cells": [
  {
   "cell_type": "code",
   "execution_count": 1,
   "metadata": {},
   "outputs": [],
   "source": [
    "import pandas as pd\n",
    "from sklearn.model_selection import KFold\n",
    "import numpy as np\n",
    "import matplotlib.pyplot as plt\n",
    "\n",
    "from sklearn.linear_model import LinearRegression, Lasso\n",
    "from sklearn.ensemble import GradientBoostingRegressor\n",
    "from sklearn.svm import SVR\n",
    "\n",
    "from sklearn.feature_selection import mutual_info_regression\n",
    "from sklearn.feature_selection import RFE\n",
    "\n",
    "from pprint import pprint\n",
    "\n",
    "%matplotlib inline"
   ]
  },
  {
   "cell_type": "markdown",
   "metadata": {},
   "source": [
    "Let's begin with simply looking at data"
   ]
  },
  {
   "cell_type": "code",
   "execution_count": 2,
   "metadata": {},
   "outputs": [
    {
     "data": {
      "text/html": [
       "<div>\n",
       "<style scoped>\n",
       "    .dataframe tbody tr th:only-of-type {\n",
       "        vertical-align: middle;\n",
       "    }\n",
       "\n",
       "    .dataframe tbody tr th {\n",
       "        vertical-align: top;\n",
       "    }\n",
       "\n",
       "    .dataframe thead th {\n",
       "        text-align: right;\n",
       "    }\n",
       "</style>\n",
       "<table border=\"1\" class=\"dataframe\">\n",
       "  <thead>\n",
       "    <tr style=\"text-align: right;\">\n",
       "      <th></th>\n",
       "      <th>UserID</th>\n",
       "      <th>PostID</th>\n",
       "      <th>Age</th>\n",
       "      <th>Country</th>\n",
       "      <th>Followers</th>\n",
       "      <th>PostType</th>\n",
       "      <th>PostHour</th>\n",
       "      <th>PostWeekday</th>\n",
       "      <th>Likes</th>\n",
       "      <th>Shares</th>\n",
       "      <th>Comments</th>\n",
       "      <th>EngagementScore</th>\n",
       "    </tr>\n",
       "  </thead>\n",
       "  <tbody>\n",
       "    <tr>\n",
       "      <th>0</th>\n",
       "      <td>997</td>\n",
       "      <td>0</td>\n",
       "      <td>21</td>\n",
       "      <td>Canada</td>\n",
       "      <td>67</td>\n",
       "      <td>Text</td>\n",
       "      <td>22</td>\n",
       "      <td>Monday</td>\n",
       "      <td>21</td>\n",
       "      <td>4</td>\n",
       "      <td>2</td>\n",
       "      <td>0.447761</td>\n",
       "    </tr>\n",
       "    <tr>\n",
       "      <th>1</th>\n",
       "      <td>48</td>\n",
       "      <td>1</td>\n",
       "      <td>47</td>\n",
       "      <td>Canada</td>\n",
       "      <td>407</td>\n",
       "      <td>Video</td>\n",
       "      <td>18</td>\n",
       "      <td>Monday</td>\n",
       "      <td>20</td>\n",
       "      <td>5</td>\n",
       "      <td>4</td>\n",
       "      <td>0.105651</td>\n",
       "    </tr>\n",
       "    <tr>\n",
       "      <th>2</th>\n",
       "      <td>301</td>\n",
       "      <td>2</td>\n",
       "      <td>18</td>\n",
       "      <td>USA</td>\n",
       "      <td>174</td>\n",
       "      <td>Text</td>\n",
       "      <td>17</td>\n",
       "      <td>Monday</td>\n",
       "      <td>18</td>\n",
       "      <td>8</td>\n",
       "      <td>4</td>\n",
       "      <td>0.252874</td>\n",
       "    </tr>\n",
       "    <tr>\n",
       "      <th>3</th>\n",
       "      <td>880</td>\n",
       "      <td>3</td>\n",
       "      <td>22</td>\n",
       "      <td>UK</td>\n",
       "      <td>53</td>\n",
       "      <td>Video</td>\n",
       "      <td>6</td>\n",
       "      <td>Monday</td>\n",
       "      <td>116</td>\n",
       "      <td>7</td>\n",
       "      <td>10</td>\n",
       "      <td>3.056604</td>\n",
       "    </tr>\n",
       "    <tr>\n",
       "      <th>4</th>\n",
       "      <td>189</td>\n",
       "      <td>4</td>\n",
       "      <td>31</td>\n",
       "      <td>France</td>\n",
       "      <td>3</td>\n",
       "      <td>Text</td>\n",
       "      <td>8</td>\n",
       "      <td>Monday</td>\n",
       "      <td>24</td>\n",
       "      <td>5</td>\n",
       "      <td>1</td>\n",
       "      <td>11.666667</td>\n",
       "    </tr>\n",
       "  </tbody>\n",
       "</table>\n",
       "</div>"
      ],
      "text/plain": [
       "   UserID  PostID  Age Country  Followers PostType  PostHour PostWeekday  \\\n",
       "0     997       0   21  Canada         67     Text        22      Monday   \n",
       "1      48       1   47  Canada        407    Video        18      Monday   \n",
       "2     301       2   18     USA        174     Text        17      Monday   \n",
       "3     880       3   22      UK         53    Video         6      Monday   \n",
       "4     189       4   31  France          3     Text         8      Monday   \n",
       "\n",
       "   Likes  Shares  Comments  EngagementScore  \n",
       "0     21       4         2         0.447761  \n",
       "1     20       5         4         0.105651  \n",
       "2     18       8         4         0.252874  \n",
       "3    116       7        10         3.056604  \n",
       "4     24       5         1        11.666667  "
      ]
     },
     "execution_count": 2,
     "metadata": {},
     "output_type": "execute_result"
    }
   ],
   "source": [
    "df = pd.read_csv(\"y_posts.csv\")\n",
    "df.head()"
   ]
  },
  {
   "cell_type": "code",
   "execution_count": 3,
   "metadata": {},
   "outputs": [
    {
     "data": {
      "text/html": [
       "<div>\n",
       "<style scoped>\n",
       "    .dataframe tbody tr th:only-of-type {\n",
       "        vertical-align: middle;\n",
       "    }\n",
       "\n",
       "    .dataframe tbody tr th {\n",
       "        vertical-align: top;\n",
       "    }\n",
       "\n",
       "    .dataframe thead th {\n",
       "        text-align: right;\n",
       "    }\n",
       "</style>\n",
       "<table border=\"1\" class=\"dataframe\">\n",
       "  <thead>\n",
       "    <tr style=\"text-align: right;\">\n",
       "      <th></th>\n",
       "      <th>UserID</th>\n",
       "      <th>PostID</th>\n",
       "      <th>Age</th>\n",
       "      <th>Country</th>\n",
       "      <th>Followers</th>\n",
       "      <th>PostType</th>\n",
       "      <th>PostHour</th>\n",
       "      <th>PostWeekday</th>\n",
       "      <th>Likes</th>\n",
       "      <th>Shares</th>\n",
       "      <th>Comments</th>\n",
       "      <th>EngagementScore</th>\n",
       "    </tr>\n",
       "  </thead>\n",
       "  <tbody>\n",
       "    <tr>\n",
       "      <th>3134</th>\n",
       "      <td>170</td>\n",
       "      <td>3134</td>\n",
       "      <td>41</td>\n",
       "      <td>Canada</td>\n",
       "      <td>1490</td>\n",
       "      <td>Text</td>\n",
       "      <td>12</td>\n",
       "      <td>Friday</td>\n",
       "      <td>23</td>\n",
       "      <td>1</td>\n",
       "      <td>2</td>\n",
       "      <td>0.017450</td>\n",
       "    </tr>\n",
       "    <tr>\n",
       "      <th>4939</th>\n",
       "      <td>170</td>\n",
       "      <td>4939</td>\n",
       "      <td>41</td>\n",
       "      <td>Canada</td>\n",
       "      <td>1490</td>\n",
       "      <td>Text</td>\n",
       "      <td>17</td>\n",
       "      <td>Wednesday</td>\n",
       "      <td>26</td>\n",
       "      <td>1</td>\n",
       "      <td>1</td>\n",
       "      <td>0.018121</td>\n",
       "    </tr>\n",
       "    <tr>\n",
       "      <th>3107</th>\n",
       "      <td>170</td>\n",
       "      <td>3107</td>\n",
       "      <td>41</td>\n",
       "      <td>Canada</td>\n",
       "      <td>1490</td>\n",
       "      <td>Video</td>\n",
       "      <td>11</td>\n",
       "      <td>Thursday</td>\n",
       "      <td>17</td>\n",
       "      <td>3</td>\n",
       "      <td>4</td>\n",
       "      <td>0.020134</td>\n",
       "    </tr>\n",
       "    <tr>\n",
       "      <th>4810</th>\n",
       "      <td>170</td>\n",
       "      <td>4810</td>\n",
       "      <td>41</td>\n",
       "      <td>Canada</td>\n",
       "      <td>1490</td>\n",
       "      <td>Text</td>\n",
       "      <td>22</td>\n",
       "      <td>Friday</td>\n",
       "      <td>16</td>\n",
       "      <td>3</td>\n",
       "      <td>3</td>\n",
       "      <td>0.020134</td>\n",
       "    </tr>\n",
       "    <tr>\n",
       "      <th>2664</th>\n",
       "      <td>170</td>\n",
       "      <td>2664</td>\n",
       "      <td>41</td>\n",
       "      <td>Canada</td>\n",
       "      <td>1490</td>\n",
       "      <td>Video</td>\n",
       "      <td>21</td>\n",
       "      <td>Sunday</td>\n",
       "      <td>17</td>\n",
       "      <td>6</td>\n",
       "      <td>2</td>\n",
       "      <td>0.022148</td>\n",
       "    </tr>\n",
       "  </tbody>\n",
       "</table>\n",
       "</div>"
      ],
      "text/plain": [
       "      UserID  PostID  Age Country  Followers PostType  PostHour PostWeekday  \\\n",
       "3134     170    3134   41  Canada       1490     Text        12      Friday   \n",
       "4939     170    4939   41  Canada       1490     Text        17   Wednesday   \n",
       "3107     170    3107   41  Canada       1490    Video        11    Thursday   \n",
       "4810     170    4810   41  Canada       1490     Text        22      Friday   \n",
       "2664     170    2664   41  Canada       1490    Video        21      Sunday   \n",
       "\n",
       "      Likes  Shares  Comments  EngagementScore  \n",
       "3134     23       1         2         0.017450  \n",
       "4939     26       1         1         0.018121  \n",
       "3107     17       3         4         0.020134  \n",
       "4810     16       3         3         0.020134  \n",
       "2664     17       6         2         0.022148  "
      ]
     },
     "execution_count": 3,
     "metadata": {},
     "output_type": "execute_result"
    }
   ],
   "source": [
    "df.sort_values(\"EngagementScore\").head()"
   ]
  },
  {
   "cell_type": "code",
   "execution_count": 4,
   "metadata": {},
   "outputs": [
    {
     "data": {
      "text/html": [
       "<div>\n",
       "<style scoped>\n",
       "    .dataframe tbody tr th:only-of-type {\n",
       "        vertical-align: middle;\n",
       "    }\n",
       "\n",
       "    .dataframe tbody tr th {\n",
       "        vertical-align: top;\n",
       "    }\n",
       "\n",
       "    .dataframe thead th {\n",
       "        text-align: right;\n",
       "    }\n",
       "</style>\n",
       "<table border=\"1\" class=\"dataframe\">\n",
       "  <thead>\n",
       "    <tr style=\"text-align: right;\">\n",
       "      <th></th>\n",
       "      <th>UserID</th>\n",
       "      <th>PostID</th>\n",
       "      <th>Age</th>\n",
       "      <th>Country</th>\n",
       "      <th>Followers</th>\n",
       "      <th>PostType</th>\n",
       "      <th>PostHour</th>\n",
       "      <th>PostWeekday</th>\n",
       "      <th>Likes</th>\n",
       "      <th>Shares</th>\n",
       "      <th>Comments</th>\n",
       "      <th>EngagementScore</th>\n",
       "    </tr>\n",
       "  </thead>\n",
       "  <tbody>\n",
       "    <tr>\n",
       "      <th>2872</th>\n",
       "      <td>627</td>\n",
       "      <td>2872</td>\n",
       "      <td>47</td>\n",
       "      <td>USA</td>\n",
       "      <td>2</td>\n",
       "      <td>Video</td>\n",
       "      <td>22</td>\n",
       "      <td>Monday</td>\n",
       "      <td>75</td>\n",
       "      <td>6</td>\n",
       "      <td>53</td>\n",
       "      <td>121.000000</td>\n",
       "    </tr>\n",
       "    <tr>\n",
       "      <th>4653</th>\n",
       "      <td>627</td>\n",
       "      <td>4653</td>\n",
       "      <td>47</td>\n",
       "      <td>USA</td>\n",
       "      <td>2</td>\n",
       "      <td>Image</td>\n",
       "      <td>9</td>\n",
       "      <td>Friday</td>\n",
       "      <td>13</td>\n",
       "      <td>7</td>\n",
       "      <td>52</td>\n",
       "      <td>89.000000</td>\n",
       "    </tr>\n",
       "    <tr>\n",
       "      <th>4957</th>\n",
       "      <td>607</td>\n",
       "      <td>4957</td>\n",
       "      <td>25</td>\n",
       "      <td>Spain</td>\n",
       "      <td>3</td>\n",
       "      <td>Image</td>\n",
       "      <td>12</td>\n",
       "      <td>Thursday</td>\n",
       "      <td>19</td>\n",
       "      <td>7</td>\n",
       "      <td>54</td>\n",
       "      <td>64.666667</td>\n",
       "    </tr>\n",
       "    <tr>\n",
       "      <th>2097</th>\n",
       "      <td>221</td>\n",
       "      <td>2097</td>\n",
       "      <td>36</td>\n",
       "      <td>UK</td>\n",
       "      <td>3</td>\n",
       "      <td>Image</td>\n",
       "      <td>14</td>\n",
       "      <td>Thursday</td>\n",
       "      <td>14</td>\n",
       "      <td>3</td>\n",
       "      <td>51</td>\n",
       "      <td>57.666667</td>\n",
       "    </tr>\n",
       "    <tr>\n",
       "      <th>1182</th>\n",
       "      <td>627</td>\n",
       "      <td>1182</td>\n",
       "      <td>47</td>\n",
       "      <td>USA</td>\n",
       "      <td>2</td>\n",
       "      <td>Text</td>\n",
       "      <td>21</td>\n",
       "      <td>Monday</td>\n",
       "      <td>79</td>\n",
       "      <td>6</td>\n",
       "      <td>4</td>\n",
       "      <td>53.000000</td>\n",
       "    </tr>\n",
       "  </tbody>\n",
       "</table>\n",
       "</div>"
      ],
      "text/plain": [
       "      UserID  PostID  Age Country  Followers PostType  PostHour PostWeekday  \\\n",
       "2872     627    2872   47     USA          2    Video        22      Monday   \n",
       "4653     627    4653   47     USA          2    Image         9      Friday   \n",
       "4957     607    4957   25   Spain          3    Image        12    Thursday   \n",
       "2097     221    2097   36      UK          3    Image        14    Thursday   \n",
       "1182     627    1182   47     USA          2     Text        21      Monday   \n",
       "\n",
       "      Likes  Shares  Comments  EngagementScore  \n",
       "2872     75       6        53       121.000000  \n",
       "4653     13       7        52        89.000000  \n",
       "4957     19       7        54        64.666667  \n",
       "2097     14       3        51        57.666667  \n",
       "1182     79       6         4        53.000000  "
      ]
     },
     "execution_count": 4,
     "metadata": {},
     "output_type": "execute_result"
    }
   ],
   "source": [
    "df.sort_values(\"EngagementScore\", ascending=False).head()"
   ]
  },
  {
   "cell_type": "markdown",
   "metadata": {},
   "source": [
    "Given the sorted values of DataFrame, we can see, that the biggest score is given to rows with high `Followers`, `Likes` and/or `Comments`. Also the name of the metric suggests, that it is meant to measure interaction of the user with the post. In this sense fields `Age` and `Country` are highly unlikely to be useful. \n",
    "I started talking about what we can understand about a metric, given its name. So far the intuituin and hypothesis I can make about our target value are:\n",
    "  * `EngagementScore` is a metric, which means it probably has quite simple form, like `(A + B) / C` or similar.\n",
    "  * It is apparent that likes, followers and comments are important for this metric\n",
    "  * age, country are unlikely to be useful\n",
    "  * post type, post hour and post weekday might have some impact but it is unclear and should be tested\n",
    "\n",
    "I am pretty sure that we can have quite precise linear regression model, but we need more work with data. Let's look at distribution of `EngagementScore` first"
   ]
  },
  {
   "cell_type": "code",
   "execution_count": 5,
   "metadata": {},
   "outputs": [
    {
     "name": "stdout",
     "output_type": "stream",
     "text": [
      "count    5000.000000\n",
      "mean        1.547303\n",
      "std         4.254233\n",
      "min         0.017450\n",
      "25%         0.181470\n",
      "50%         0.440183\n",
      "75%         1.233675\n",
      "max       121.000000\n",
      "Name: EngagementScore, dtype: float64\n"
     ]
    },
    {
     "data": {
      "image/png": "[encoded data removed]",
      "text/plain": [
       "<Figure size 640x480 with 1 Axes>"
      ]
     },
     "metadata": {},
     "output_type": "display_data"
    },
    {
     "data": {
      "image/png": "[encoded data removed]",
      "text/plain": [
       "<Figure size 640x480 with 1 Axes>"
      ]
     },
     "metadata": {},
     "output_type": "display_data"
    },
    {
     "data": {
      "image/png": "[encoded data removed]",
      "text/plain": [
       "<Figure size 640x480 with 1 Axes>"
      ]
     },
     "metadata": {},
     "output_type": "display_data"
    },
    {
     "name": "stdout",
     "output_type": "stream",
     "text": [
      "count    5000.000000\n",
      "mean       -0.677297\n",
      "std         1.377209\n",
      "min        -4.048435\n",
      "25%        -1.706666\n",
      "50%        -0.820564\n",
      "75%         0.209998\n",
      "max         4.795791\n",
      "Name: EngagementScore, dtype: float64\n"
     ]
    }
   ],
   "source": [
    "print(df.EngagementScore.describe())\n",
    "df.hist(\n",
    "    \"EngagementScore\",\n",
    "    bins=100,\n",
    ")\n",
    "plt.show()\n",
    "# looks like a lot of outliers\n",
    "df.sort_values(\"EngagementScore\", ascending=True).head(int(df.shape[0] * 0.9)).hist(\n",
    "    \"EngagementScore\",\n",
    "    bins=100,\n",
    ")\n",
    "plt.show()\n",
    "# looks like lognormal\n",
    "df.sort_values(\"EngagementScore\", ascending=True).EngagementScore.apply(np.log).hist(\n",
    "    bins=100,\n",
    ")\n",
    "plt.show()\n",
    "# looks like normal or bi-variate normal\n",
    "print(\n",
    "    df.sort_values(\"EngagementScore\", ascending=True)\n",
    "    .EngagementScore.apply(np.log)\n",
    "    .describe()\n",
    ")\n",
    "\n",
    "df_normal = df.copy()\n",
    "df_normal.EngagementScore = df_normal.EngagementScore.apply(np.log)"
   ]
  },
  {
   "cell_type": "markdown",
   "metadata": {},
   "source": [
    "We can see, that originally the distribution of target variable is log-normal. After applying log it gets very close to normal distribution (or maybe bi-modal normal)\n",
    "I'll keep log of target and use it for prediction in the next steps\n",
    "Let's look at other features"
   ]
  },
  {
   "cell_type": "code",
   "execution_count": 6,
   "metadata": {},
   "outputs": [
    {
     "data": {
      "image/png": "[encoded data removed]",
      "text/plain": [
       "<Figure size 640x480 with 1 Axes>"
      ]
     },
     "metadata": {},
     "output_type": "display_data"
    },
    {
     "data": {
      "image/png": "[encoded data removed]",
      "text/plain": [
       "<Figure size 640x480 with 1 Axes>"
      ]
     },
     "metadata": {},
     "output_type": "display_data"
    },
    {
     "data": {
      "image/png": "[encoded data removed]",
      "text/plain": [
       "<Figure size 640x480 with 1 Axes>"
      ]
     },
     "metadata": {},
     "output_type": "display_data"
    },
    {
     "data": {
      "image/png": "[encoded data removed]",
      "text/plain": [
       "<Figure size 640x480 with 1 Axes>"
      ]
     },
     "metadata": {},
     "output_type": "display_data"
    },
    {
     "data": {
      "image/png": "[encoded data removed]",
      "text/plain": [
       "<Figure size 640x480 with 1 Axes>"
      ]
     },
     "metadata": {},
     "output_type": "display_data"
    },
    {
     "data": {
      "image/png": "[encoded data removed]",
      "text/plain": [
       "<Figure size 640x480 with 1 Axes>"
      ]
     },
     "metadata": {},
     "output_type": "display_data"
    },
    {
     "data": {
      "image/png": "[encoded data removed]",
      "text/plain": [
       "<Figure size 640x480 with 1 Axes>"
      ]
     },
     "metadata": {},
     "output_type": "display_data"
    },
    {
     "data": {
      "image/png": "[encoded data removed]",
      "text/plain": [
       "<Figure size 640x480 with 1 Axes>"
      ]
     },
     "metadata": {},
     "output_type": "display_data"
    },
    {
     "data": {
      "image/png": "[encoded data removed]",
      "text/plain": [
       "<Figure size 640x480 with 1 Axes>"
      ]
     },
     "metadata": {},
     "output_type": "display_data"
    },
    {
     "data": {
      "image/png": "[encoded data removed]",
      "text/plain": [
       "<Figure size 640x480 with 1 Axes>"
      ]
     },
     "metadata": {},
     "output_type": "display_data"
    }
   ],
   "source": [
    "columns = list(df.columns)\n",
    "columns.remove(\"UserID\")\n",
    "columns.remove(\"PostID\")\n",
    "for c in columns:\n",
    "    df[c].hist(bins=100, legend=True)\n",
    "    plt.show()"
   ]
  },
  {
   "cell_type": "markdown",
   "metadata": {},
   "source": [
    "Most of the variables look like normal, multi-modal normal or uniform distributions. But `Followers` looks like poisson or log-normal so we might want to apply log to this column.\n",
    "Let's proceed with looking at how different variables contribute to target. I will start with simple Spearman correlation. It should tell us if there is a monotonic correlation between variables"
   ]
  },
  {
   "cell_type": "code",
   "execution_count": 7,
   "metadata": {},
   "outputs": [
    {
     "data": {
      "text/html": [
       "<div>\n",
       "<style scoped>\n",
       "    .dataframe tbody tr th:only-of-type {\n",
       "        vertical-align: middle;\n",
       "    }\n",
       "\n",
       "    .dataframe tbody tr th {\n",
       "        vertical-align: top;\n",
       "    }\n",
       "\n",
       "    .dataframe thead th {\n",
       "        text-align: right;\n",
       "    }\n",
       "</style>\n",
       "<table border=\"1\" class=\"dataframe\">\n",
       "  <thead>\n",
       "    <tr style=\"text-align: right;\">\n",
       "      <th></th>\n",
       "      <th>Age</th>\n",
       "      <th>Followers</th>\n",
       "      <th>PostHour</th>\n",
       "      <th>Likes</th>\n",
       "      <th>Shares</th>\n",
       "      <th>Comments</th>\n",
       "      <th>EngagementScore</th>\n",
       "    </tr>\n",
       "  </thead>\n",
       "  <tbody>\n",
       "    <tr>\n",
       "      <th>EngagementScore</th>\n",
       "      <td>-0.02622</td>\n",
       "      <td>-0.803716</td>\n",
       "      <td>0.033509</td>\n",
       "      <td>0.162348</td>\n",
       "      <td>0.059267</td>\n",
       "      <td>0.404625</td>\n",
       "      <td>1.0</td>\n",
       "    </tr>\n",
       "  </tbody>\n",
       "</table>\n",
       "</div>"
      ],
      "text/plain": [
       "                     Age  Followers  PostHour     Likes    Shares  Comments  \\\n",
       "EngagementScore -0.02622  -0.803716  0.033509  0.162348  0.059267  0.404625   \n",
       "\n",
       "                 EngagementScore  \n",
       "EngagementScore              1.0  "
      ]
     },
     "execution_count": 7,
     "metadata": {},
     "output_type": "execute_result"
    }
   ],
   "source": [
    "df_normal.drop([\"UserID\", \"PostID\"], axis=1).corr(\n",
    "    method=\"spearman\", numeric_only=True\n",
    ").iloc[-1:]"
   ]
  },
  {
   "cell_type": "markdown",
   "metadata": {},
   "source": [
    "We can see that `Followers`, `PostHour`, `Likes` and `Comments` have quite high correlation. Correlation doesn't proove the causation but it shows us where to look.\n",
    "To be honest, at this point I started experimenting with linear regression and lass feature selection, and was getting R2 score of around 0.72. So I stopped and looked some more at the features with mutual information and recursive feature elimination.\n",
    "Here I start using 5 cross-validation splits, with fixed random seed and I inspect features only on the first training fold. Just in case, to prevent any leak from the test data. But all the models showed that performance on different folds is very similar, which means that data distribution is not skewed and it should be safe to make assumptions on some particular fold."
   ]
  },
  {
   "cell_type": "code",
   "execution_count": 8,
   "metadata": {},
   "outputs": [
    {
     "name": "stdout",
     "output_type": "stream",
     "text": [
      "MI scores\n",
      "[('Followers', 1.2469138268183189),\n",
      " ('Comments', 0.16014339852910808),\n",
      " ('Age', 0.07677025119620051),\n",
      " ('Likes', 0.04127642780377627),\n",
      " ('PostHour', 0.0164938976946587),\n",
      " ('PostWeekday', 0.011610238833980269),\n",
      " ('Shares', 0.010521890928028022),\n",
      " ('Country', 0.00806049062870473),\n",
      " ('PostType', 0.007773501227880342)]\n",
      "--------------------------------------------------------------------------------\n",
      "RFE ranking\n",
      "[('Followers', 1),\n",
      " ('Likes', 1),\n",
      " ('Shares', 1),\n",
      " ('Comments', 1),\n",
      " ('Age', 2),\n",
      " ('PostHour', 3),\n",
      " ('PostWeekday_Tuesday', 4),\n",
      " ('PostWeekday_Thursday', 5),\n",
      " ('PostWeekday_Sunday', 6),\n",
      " ('PostWeekday_Saturday', 7),\n",
      " ('PostWeekday_Monday', 8),\n",
      " ('PostWeekday_Friday', 9),\n",
      " ('PostWeekday', 10),\n",
      " ('PostType_Video', 11),\n",
      " ('PostType_Text', 12),\n",
      " ('PostType', 13),\n",
      " ('Country', 14),\n",
      " ('PostWeekday_Wednesday', 15),\n",
      " ('PostType_Image', 16),\n",
      " ('Country_Canada', 17),\n",
      " ('Country_USA', 18),\n",
      " ('Country_France', 19),\n",
      " ('Country_UK', 20),\n",
      " ('Country_Spain', 21)]\n"
     ]
    }
   ],
   "source": [
    "drop_labels = [\"UserID\", \"PostID\", \"EngagementScore\"]\n",
    "df_numeric = df_normal.drop(drop_labels, axis=1)\n",
    "one_hot_labels = [\"Country\", \"PostType\", \"PostWeekday\"]\n",
    "for c in one_hot_labels:\n",
    "    feat_list = list(sorted(list(set(df_numeric[c]))))\n",
    "    df_numeric[c] = df_numeric[c].apply(lambda x: feat_list.index(x))\n",
    "\n",
    "discrete_mask = np.array([c in one_hot_labels for c in df_numeric.columns])\n",
    "\n",
    "X = KFold(\n",
    "    n_splits=5,\n",
    "    random_state=42,\n",
    "    shuffle=True,\n",
    ").split(df_numeric, df_normal[df_normal.columns[-1:]])\n",
    "mi_scores = []\n",
    "for train_idx, test_idx in X:\n",
    "    train_data = df_numeric.to_numpy()[train_idx]\n",
    "\n",
    "# for mutual information it is ok to leave discrete features unprocessed\n",
    "mi_score = mutual_info_regression(\n",
    "    train_data,\n",
    "    df_normal[\"EngagementScore\"][train_idx],\n",
    "    discrete_features=discrete_mask,\n",
    "    n_neighbors=7,\n",
    ")\n",
    "mi_scores.append(mi_score)\n",
    "res = list(zip(df_numeric.columns, mi_score))\n",
    "res_dict = sorted(res, key=lambda x: x[1])\n",
    "\n",
    "# for classifiers it is better to change discrete variables to one-hot\n",
    "# However it will be much more expensive to compute RFE\n",
    "df_numeric = pd.concat(\n",
    "    [df_numeric, pd.get_dummies(df_normal[one_hot_labels], dtype=float)], axis=1\n",
    ")\n",
    "train_data = df_numeric.to_numpy()[train_idx]\n",
    "lasso = GradientBoostingRegressor()\n",
    "rfe = RFE(estimator=lasso, n_features_to_select=4, step=1)\n",
    "rfe.fit(train_data, df_normal[\"EngagementScore\"][train_idx])\n",
    "ranking = sorted(zip(df_numeric.columns, rfe.ranking_), key=lambda x: x[1])\n",
    "print(\"MI scores\")\n",
    "pprint(res_dict[::-1])\n",
    "print(\"-\" * 80)\n",
    "print(\"RFE ranking\")\n",
    "pprint(ranking)"
   ]
  },
  {
   "cell_type": "markdown",
   "metadata": {},
   "source": [
    "From scores above we can see, that for mutual information scores the biggest values are for `Followers`, `Comments`, `Age`, `PostHours`, `Likes`. For me from this results it is not clear why `Age` and `PostHour` are so high. Maybe it is because some age group make better posts at some particular time of day (like after work or school). I still don't think that age and time of day is used for calculating metric. And recursive feature elimination shows that `PostHour` and `Age` are ranked lower than `Followers`, `Likes`, `Shares` and `Comments`, which makes sense to me. Here I used `GradientBoosting` for RFE, instead of linear regression because it is much more powerful, robust and non-linear. But given all the previous information I came up to simple linear regression model, that performs more or less good. Bellow there are several models, including linear regression. Some parameters I found by hand, they are not optimal, proper hyperparameter search can give somewhat better results. I still want to find the exact function of metric, so complex models like SVR and GradientBoosting won't help much\n",
    "I use 2 types of scores, R2, which is used by sklearn, and which tells the amount of explained variance, and mean absolute error, which gives better understanding of error."
   ]
  },
  {
   "cell_type": "code",
   "execution_count": 9,
   "metadata": {},
   "outputs": [
    {
     "name": "stdout",
     "output_type": "stream",
     "text": [
      "Estimator LinearRegression()\n",
      "Scores [0.9850875836741539, 0.9848730968558521, 0.985679582355991, 0.9859429142972034, 0.9863007067774089] average: 0.9855767767921219\n",
      "MAE Scores [0.21941692902913656, 0.22706428804986406, 0.24343875645118526, 0.1975354209741237, 0.2508739906164295] MAE average: 0.2276658770241478\n",
      "--------------------------------------------------------------------------------------------------------------------------------------------------------------------------------------------------------\n",
      "Estimator Lasso(alpha=0.05)\n",
      "Scores [0.9838003304327234, 0.9842459077711583, 0.9838920484204019, 0.9846835399808671, 0.9851195576616573] average: 0.9843482768533616\n",
      "MAE Scores [0.23485494787452207, 0.2443708223991751, 0.297604347929685, 0.24978487771744654, 0.26326150190915687] MAE average: 0.2579752995659971\n",
      "--------------------------------------------------------------------------------------------------------------------------------------------------------------------------------------------------------\n",
      "Estimator SVR(C=100)\n",
      "Scores [0.9973009000037975, 0.9971264575930614, 0.9973921259070114, 0.99720343552546, 0.997206959717461] average: 0.9972459757493584\n",
      "MAE Scores [0.06790184970257998, 0.07896792602557406, 0.07862905652704168, 0.07472979022201583, 0.08209265179048203] MAE average: 0.07646425485353872\n",
      "--------------------------------------------------------------------------------------------------------------------------------------------------------------------------------------------------------\n",
      "Estimator GradientBoostingRegressor()\n",
      "Scores [0.9951043262787824, 0.9946284149930481, 0.9953545989087556, 0.9952164275532532, 0.995251706436721] average: 0.9951110948341121\n",
      "MAE Scores [0.10471815318585823, 0.11712193464813203, 0.15524333366423287, 0.1216135000724568, 0.12161510091153953] MAE average: 0.1240624044964439\n",
      "--------------------------------------------------------------------------------------------------------------------------------------------------------------------------------------------------------\n"
     ]
    }
   ],
   "source": [
    "drop_labels = [\n",
    "    \"UserID\",\n",
    "    \"PostID\",\n",
    "    \"Country\",\n",
    "    \"PostType\",\n",
    "    \"PostWeekday\",\n",
    "    \"EngagementScore\",\n",
    "    \"PostHour\",\n",
    "    \"Age\",\n",
    "]\n",
    "\n",
    "df_numeric = df_normal.drop(drop_labels, axis=1)\n",
    "\n",
    "# applying log is really important for linear and SVR models\n",
    "# I wouldn't notice it without feature selection steps above\n",
    "df_numeric[\"Followers\"] = df_numeric[\"Followers\"].apply(np.log)\n",
    "\n",
    "target = df_normal[\"EngagementScore\"].to_numpy()\n",
    "\n",
    "for r in [\n",
    "    LinearRegression,\n",
    "    lambda: Lasso(alpha=0.05),\n",
    "    lambda: SVR(C=100),\n",
    "    lambda: GradientBoostingRegressor(),\n",
    "]:\n",
    "    X = KFold(\n",
    "        n_splits=5,\n",
    "        random_state=42,\n",
    "        shuffle=True,\n",
    "    ).split(df_numeric, df_normal[df_normal.columns[-1:]])\n",
    "    scores = []\n",
    "    mae_scores = []\n",
    "    for train_idx, test_idx in X:\n",
    "        reg_model = r()\n",
    "\n",
    "        train_target = target[train_idx]\n",
    "\n",
    "        train_data = df_numeric.to_numpy()[train_idx]\n",
    "        test_data = df_numeric.to_numpy()[test_idx]\n",
    "\n",
    "        reg_model.fit(train_data, train_target)\n",
    "        test_target = target[test_idx]\n",
    "        score = reg_model.score(test_data, test_target)\n",
    "        scores.append(score)\n",
    "        # For MAE I revert log of target variable, to know the error in relation to original target variable\n",
    "        mae_score = np.mean(\n",
    "            np.abs(np.exp(reg_model.predict(test_data)) - np.exp(target[test_idx]))\n",
    "        )\n",
    "        mae_scores.append(mae_score)\n",
    "    print(\"Estimator\", reg_model)\n",
    "    print(\"Scores\", scores, \"average:\", np.mean(scores))\n",
    "    print(\"MAE Scores\", mae_scores, \"MAE average:\", np.mean(mae_scores))\n",
    "    print(\"-\" * 200)"
   ]
  },
  {
   "cell_type": "markdown",
   "metadata": {},
   "source": [
    "From the results aboce, SVR works the best, GradientBoosting follows and linear regression is the worst. Still, linear regression explains 98.5% of variance. And it can be improved further, simply by adding some relations between variables (`A/B`)"
   ]
  },
  {
   "cell_type": "code",
   "execution_count": 10,
   "metadata": {},
   "outputs": [
    {
     "name": "stdout",
     "output_type": "stream",
     "text": [
      "Estimator LinearRegression()\n",
      "Scores [0.9932120554942735, 0.9920438449054034, 0.9925973781124282, 0.9924884026381138, 0.9920523302537427] average: 0.9924788022807924\n",
      "MAE Scores [0.13932345615267963, 0.17258565283246305, 0.17096004443209484, 0.14769563266714067, 0.20037573649027585] MAE average: 0.1661881045149308\n",
      "--------------------------------------------------------------------------------------------------------------------------------------------------------------------------------------------------------\n",
      "Estimator SVR(C=100)\n",
      "Scores [0.035432952315063604, 0.03416832486389143, 0.04342797428722689, 0.02343152445371799, 0.041976629579066005] average: 0.03568748109979318\n",
      "MAE Scores [1.2430500539032898, 1.2595946247674243, 1.38686283905312, 1.3717437090521705, 1.3856182035524933] MAE average: 1.3293738860656996\n",
      "--------------------------------------------------------------------------------------------------------------------------------------------------------------------------------------------------------\n",
      "Estimator GradientBoostingRegressor()\n",
      "Scores [0.9945998369429797, 0.9943461507470231, 0.9936899900613344, 0.9939118350483596, 0.9937244082376848] average: 0.9940544442074764\n",
      "MAE Scores [0.11176623774668551, 0.11459511149536777, 0.20381443723096668, 0.15141353528920004, 0.13816264020676985] MAE average: 0.14395039239379798\n",
      "--------------------------------------------------------------------------------------------------------------------------------------------------------------------------------------------------------\n",
      "Estimator Lasso(alpha=0.007)\n",
      "Scores [0.9889528075630387, 0.9882931789849294, 0.9885103465508781, 0.9887357118850698, 0.9888539577004011] average: 0.9886692005368634\n",
      "MAE Scores [0.17065302606739932, 0.196146503987431, 0.2028696444545202, 0.1636661160181969, 0.22081215334660487] MAE average: 0.19082948877483047\n",
      "--------------------------------------------------------------------------------------------------------------------------------------------------------------------------------------------------------\n"
     ]
    }
   ],
   "source": [
    "drop_labels = [\n",
    "    \"UserID\",\n",
    "    \"PostID\",\n",
    "    \"Country\",\n",
    "    \"PostType\",\n",
    "    \"PostWeekday\",\n",
    "    \"EngagementScore\",\n",
    "    \"PostHour\",\n",
    "    \"Age\",\n",
    "]\n",
    "\n",
    "df_numeric = df_normal.drop(drop_labels, axis=1)\n",
    "\n",
    "df_numeric[\"Followers\"] = df_numeric[\"Followers\"].apply(np.log)\n",
    "permutations = [\n",
    "    (df_numeric[c] / (df_numeric[cc] + 1e-8)).rename(f\"{c}/{cc}\")\n",
    "    for c in df_numeric.columns\n",
    "    for cc in df_numeric.columns\n",
    "    if c != cc\n",
    "]\n",
    "\n",
    "df_numeric = pd.concat([df_numeric] + permutations, axis=1)\n",
    "\n",
    "target = df_normal[\"EngagementScore\"].to_numpy()\n",
    "\n",
    "for r in [\n",
    "    LinearRegression,\n",
    "    lambda: SVR(C=100),\n",
    "    lambda: GradientBoostingRegressor(),\n",
    "    lambda: Lasso(alpha=0.007),\n",
    "]:\n",
    "    X = KFold(\n",
    "        n_splits=5,\n",
    "        random_state=42,\n",
    "        shuffle=True,\n",
    "    ).split(df_numeric, df_normal[df_normal.columns[-1:]])\n",
    "    scores = []\n",
    "    mae_scores = []\n",
    "    for train_idx, test_idx in X:\n",
    "        reg_model = r()\n",
    "\n",
    "        train_target = target[train_idx]\n",
    "\n",
    "        train_data = df_numeric.to_numpy()[train_idx]\n",
    "        test_data = df_numeric.to_numpy()[test_idx]\n",
    "\n",
    "        reg_model.fit(train_data, train_target)\n",
    "        test_target = target[test_idx]\n",
    "        score = reg_model.score(test_data, test_target)\n",
    "        scores.append(score)\n",
    "        # For MAE I revert log of target variable, to know the error in relation to original target variable\n",
    "        mae_score = np.mean(\n",
    "            np.abs(np.exp(reg_model.predict(test_data)) - np.exp(target[test_idx]))\n",
    "        )\n",
    "        mae_scores.append(mae_score)\n",
    "    print(\"Estimator\", reg_model)\n",
    "    print(\"Scores\", scores, \"average:\", np.mean(scores))\n",
    "    print(\"MAE Scores\", mae_scores, \"MAE average:\", np.mean(mae_scores))\n",
    "    print(\"-\" * 200)"
   ]
  },
  {
   "cell_type": "markdown",
   "metadata": {},
   "source": [
    "I moved Lasso to the end, to see, which pairs are less usefull, and try to remove them. But also you can see, that this kind of feature enginering helped only the linear model."
   ]
  },
  {
   "cell_type": "code",
   "execution_count": 11,
   "metadata": {},
   "outputs": [
    {
     "name": "stdout",
     "output_type": "stream",
     "text": [
      "[(-0.9850200474301184, 'Followers'),\n",
      " (0.13763231264900336, 'Comments/Likes'),\n",
      " (0.036737701357227995, 'Shares'),\n",
      " (0.023613631740232215, 'Comments'),\n",
      " (0.011708441212862356, 'Likes'),\n",
      " (0.00266763582660883, 'Likes/Followers'),\n",
      " (0.0009316689031388641, 'Comments/Followers'),\n",
      " (-4.735677877028172e-10, 'Followers/Comments'),\n",
      " (-2.2490077400320873e-10, 'Followers/Shares'),\n",
      " (5.151765933616098e-11, 'Comments/Shares'),\n",
      " (3.0036193873899295e-11, 'Likes/Comments'),\n",
      " (1.1377743968446774e-11, 'Shares/Comments'),\n",
      " (-4.535084658182667e-12, 'Likes/Shares'),\n",
      " (-0.0, 'Followers/Likes'),\n",
      " (0.0, 'Shares/Followers'),\n",
      " (-0.0, 'Shares/Likes')]\n"
     ]
    }
   ],
   "source": [
    "pprint(\n",
    "    list(\n",
    "        sorted(\n",
    "            zip(reg_model.coef_, df_numeric.columns),\n",
    "            key=lambda x: np.abs(x[0]),\n",
    "            reverse=True,\n",
    "        )\n",
    "    )\n",
    ")"
   ]
  },
  {
   "cell_type": "code",
   "execution_count": 12,
   "metadata": {},
   "outputs": [
    {
     "name": "stdout",
     "output_type": "stream",
     "text": [
      "Estimator LinearRegression()\n",
      "Scores [0.9887039154352659, 0.9877614142861043, 0.9886044023133914, 0.988582356862196, 0.9883084745077658] average: 0.9883921126809447\n",
      "MAE Scores [0.16831013312101806, 0.2012815436178295, 0.19716722164089162, 0.16649254166584618, 0.17582236076407987] MAE average: 0.18181476016193304\n",
      "--------------------------------------------------------------------------------------------------------------------------------------------------------------------------------------------------------\n",
      "Estimator SVR(C=100)\n",
      "Scores [0.997307759422016, 0.9971627559454943, 0.9974199299389012, 0.997177778877252, 0.9971743115652615] average: 0.997248507149785\n",
      "MAE Scores [0.06755996351972555, 0.07810429663751588, 0.07787335505819659, 0.07773321521651727, 0.08621176667322826] MAE average: 0.07749651942103672\n",
      "--------------------------------------------------------------------------------------------------------------------------------------------------------------------------------------------------------\n",
      "Estimator GradientBoostingRegressor()\n",
      "Scores [0.9951349915129365, 0.9948586695305952, 0.9953541853647108, 0.9951355759154101, 0.9952281225060208] average: 0.9951423089659345\n",
      "MAE Scores [0.10234902082949604, 0.10872558906066669, 0.1554388689071981, 0.1299305884635815, 0.12222249999728131] MAE average: 0.12373331345164473\n",
      "--------------------------------------------------------------------------------------------------------------------------------------------------------------------------------------------------------\n",
      "Estimator Lasso(alpha=0.007)\n",
      "Scores [0.9882821744907752, 0.9877174182532624, 0.988334832943087, 0.9884451567532894, 0.988472110949587] average: 0.9882503386780002\n",
      "MAE Scores [0.17355896121066636, 0.19617191950406093, 0.20177358905262155, 0.16782747880982496, 0.18207506748406674] MAE average: 0.18428140321224812\n",
      "--------------------------------------------------------------------------------------------------------------------------------------------------------------------------------------------------------\n"
     ]
    }
   ],
   "source": [
    "drop_labels = [\n",
    "    \"UserID\",\n",
    "    \"PostID\",\n",
    "    \"Country\",\n",
    "    \"PostType\",\n",
    "    \"PostWeekday\",\n",
    "    \"EngagementScore\",\n",
    "    \"PostHour\",\n",
    "    \"Age\",\n",
    "]\n",
    "\n",
    "df_numeric = df_normal.drop(drop_labels, axis=1)\n",
    "\n",
    "df_numeric[\"Followers\"] = df_numeric[\"Followers\"].apply(np.log)\n",
    "\n",
    "permutations = [\n",
    "    (df_numeric[\"Comments\"] / (df_numeric[\"Likes\"] + 1e-8)).rename(\"Comments/Likes\")\n",
    "]\n",
    "\n",
    "df_numeric = pd.concat([df_numeric] + permutations, axis=1)\n",
    "\n",
    "target = df_normal[\"EngagementScore\"].to_numpy()\n",
    "\n",
    "for r in [\n",
    "    LinearRegression,\n",
    "    lambda: SVR(C=100),\n",
    "    lambda: GradientBoostingRegressor(),\n",
    "    lambda: Lasso(alpha=0.007),\n",
    "]:\n",
    "    X = KFold(\n",
    "        n_splits=5,\n",
    "        random_state=42,\n",
    "        shuffle=True,\n",
    "    ).split(df_numeric, df_normal[df_normal.columns[-1:]])\n",
    "    scores = []\n",
    "    mae_scores = []\n",
    "    for train_idx, test_idx in X:\n",
    "        reg_model = r()\n",
    "\n",
    "        train_target = target[train_idx]\n",
    "\n",
    "        train_data = df_numeric.to_numpy()[train_idx]\n",
    "        test_data = df_numeric.to_numpy()[test_idx]\n",
    "\n",
    "        reg_model.fit(train_data, train_target)\n",
    "        test_target = target[test_idx]\n",
    "        score = reg_model.score(test_data, test_target)\n",
    "        scores.append(score)\n",
    "        # For MAE I revert log of target variable, to know the error in relation to original target variable\n",
    "        mae_score = np.mean(\n",
    "            np.abs(np.exp(reg_model.predict(test_data)) - np.exp(target[test_idx]))\n",
    "        )\n",
    "        mae_scores.append(mae_score)\n",
    "    print(\"Estimator\", reg_model)\n",
    "    print(\"Scores\", scores, \"average:\", np.mean(scores))\n",
    "    print(\"MAE Scores\", mae_scores, \"MAE average:\", np.mean(mae_scores))\n",
    "    print(\"-\" * 200)"
   ]
  },
  {
   "cell_type": "markdown",
   "metadata": {},
   "source": [
    "Leaving only the most important relationship helped a bit, while keeping the linear model simple. And it doesn't hurt more complex models that much. Let's go back to `PostHour` and see if we can do something with it. We want to preserve relations between adjasent hours, so we can use periodic functions like sin and cos for encoding time."
   ]
  },
  {
   "cell_type": "code",
   "execution_count": 13,
   "metadata": {},
   "outputs": [
    {
     "name": "stdout",
     "output_type": "stream",
     "text": [
      "Estimator LinearRegression()\n",
      "Scores [0.985087909820747, 0.9848944324246754, 0.9856334295186284, 0.985962993572277, 0.9862355722162537] average: 0.9855628675105162\n",
      "MAE Scores [0.22050885997854225, 0.22637378479548495, 0.24501680838891343, 0.19666606152891888, 0.25453281953308854] MAE average: 0.22861966684498958\n",
      "--------------------------------------------------------------------------------------------------------------------------------------------------------------------------------------------------------\n",
      "Estimator SVR(C=100)\n",
      "Scores [0.9972265308854847, 0.9968071130536542, 0.9969262715127876, 0.9969979665153765, 0.9970353066456701] average: 0.9969986377225947\n",
      "MAE Scores [0.07199713892066373, 0.0896964834582063, 0.08839240668998763, 0.08095310876237824, 0.10251919439330429] MAE average: 0.08671166644490805\n",
      "--------------------------------------------------------------------------------------------------------------------------------------------------------------------------------------------------------\n",
      "Estimator GradientBoostingRegressor()\n",
      "Scores [0.9950711061855632, 0.9946534432857771, 0.9953475712417744, 0.9952093573047408, 0.9952391628767164] average: 0.9951041281789145\n",
      "MAE Scores [0.10551950497937031, 0.11511392819360529, 0.15569342218694848, 0.12144341787496049, 0.12083814155091484] MAE average: 0.12372168295715988\n",
      "--------------------------------------------------------------------------------------------------------------------------------------------------------------------------------------------------------\n",
      "Estimator Lasso(alpha=0.007)\n",
      "Scores [0.9850522392294665, 0.9849345703886512, 0.9855888374814842, 0.9859124379160386, 0.9862819815960131] average: 0.9855540133223307\n",
      "MAE Scores [0.21770474915824678, 0.22653048849545945, 0.2500253060693014, 0.20223725268122403, 0.25011298539370974] MAE average: 0.22932215635958828\n",
      "--------------------------------------------------------------------------------------------------------------------------------------------------------------------------------------------------------\n"
     ]
    }
   ],
   "source": [
    "drop_labels = [\n",
    "    \"UserID\",\n",
    "    \"PostID\",\n",
    "    \"Country\",\n",
    "    \"PostType\",\n",
    "    \"PostWeekday\",\n",
    "    \"EngagementScore\",\n",
    "    \"PostHour\",\n",
    "    \"Age\",\n",
    "]\n",
    "\n",
    "post_hour = df_normal[\"PostHour\"]\n",
    "\n",
    "# different frequencies, to make different parts of the day more important\n",
    "time_encodings = [\n",
    "    post_hour.apply(lambda x: np.sin(2 * i * np.pi * ((x) / 24))) for i in [1, 2, 3]\n",
    "]\n",
    "time_encodings += [\n",
    "    post_hour.apply(lambda x: np.cos(2 * i * np.pi * ((x) / 24))) for i in [1, 2, 3]\n",
    "]\n",
    "\n",
    "df_numeric = df_normal.drop(drop_labels, axis=1)\n",
    "\n",
    "df_numeric[\"Followers\"] = df_numeric[\"Followers\"].apply(np.log)\n",
    "\n",
    "# no permutations here, because it hurts other models significantly\n",
    "df_numeric = pd.concat([df_numeric] + time_encodings, axis=1)\n",
    "\n",
    "target = df_normal[\"EngagementScore\"].to_numpy()\n",
    "\n",
    "for r in [\n",
    "    LinearRegression,\n",
    "    lambda: SVR(C=100),\n",
    "    lambda: GradientBoostingRegressor(),\n",
    "    lambda: Lasso(alpha=0.007),\n",
    "]:\n",
    "    X = KFold(\n",
    "        n_splits=5,\n",
    "        random_state=42,\n",
    "        shuffle=True,\n",
    "    ).split(df_numeric, df_normal[df_normal.columns[-1:]])\n",
    "    scores = []\n",
    "    mae_scores = []\n",
    "    for train_idx, test_idx in X:\n",
    "        reg_model = r()\n",
    "\n",
    "        train_target = target[train_idx]\n",
    "\n",
    "        train_data = df_numeric.to_numpy()[train_idx]\n",
    "        test_data = df_numeric.to_numpy()[test_idx]\n",
    "\n",
    "        reg_model.fit(train_data, train_target)\n",
    "        test_target = target[test_idx]\n",
    "        score = reg_model.score(test_data, test_target)\n",
    "        scores.append(score)\n",
    "        # For MAE I revert log of target variable, to know the error in relation to original target variable\n",
    "        mae_score = np.mean(\n",
    "            np.abs(np.exp(reg_model.predict(test_data)) - np.exp(target[test_idx]))\n",
    "        )\n",
    "        mae_scores.append(mae_score)\n",
    "    print(\"Estimator\", reg_model)\n",
    "    print(\"Scores\", scores, \"average:\", np.mean(scores))\n",
    "    print(\"MAE Scores\", mae_scores, \"MAE average:\", np.mean(mae_scores))\n",
    "    print(\"-\" * 200)"
   ]
  },
  {
   "cell_type": "markdown",
   "metadata": {},
   "source": [
    "It looks like `PostHour` doesn't have strong impact on models, so probably it is not used to calculate `EngagementScore`. Let's see how `Age` performs"
   ]
  },
  {
   "cell_type": "code",
   "execution_count": 14,
   "metadata": {},
   "outputs": [
    {
     "name": "stdout",
     "output_type": "stream",
     "text": [
      "Estimator LinearRegression()\n",
      "Scores [0.9851096855863988, 0.984910072241418, 0.9856180131160226, 0.9859547406979428, 0.9863246198540321] average: 0.9855834262991628\n",
      "MAE Scores [0.2192857800678821, 0.22761548124245126, 0.24386007800379772, 0.1968135966484926, 0.2524641529502831] MAE average: 0.22800781778258136\n",
      "--------------------------------------------------------------------------------------------------------------------------------------------------------------------------------------------------------\n",
      "Estimator SVR(C=100)\n",
      "Scores [0.9973040944758808, 0.9970804165728034, 0.9974197729496925, 0.9971752178963448, 0.9971748623461891] average: 0.9972308728481822\n",
      "MAE Scores [0.06838799757235822, 0.08110687510131966, 0.07726115785614858, 0.07745603644305876, 0.08580817499639033] MAE average: 0.07800404839385511\n",
      "--------------------------------------------------------------------------------------------------------------------------------------------------------------------------------------------------------\n",
      "Estimator GradientBoostingRegressor()\n",
      "Scores [0.9950602774580214, 0.9946811136960085, 0.9953418192882889, 0.9952170312958829, 0.9952494267808113] average: 0.9951099337038027\n",
      "MAE Scores [0.10451536358615222, 0.11561791427334858, 0.15606480911972717, 0.12298715313489833, 0.12031240743395887] MAE average: 0.12389952950961702\n",
      "--------------------------------------------------------------------------------------------------------------------------------------------------------------------------------------------------------\n",
      "Estimator Lasso(alpha=0.007)\n",
      "Scores [0.9850522392294665, 0.9849345703886512, 0.9855888374814842, 0.9859124379160386, 0.9862819815960131] average: 0.9855540133223307\n",
      "MAE Scores [0.21770474915824678, 0.22653048849545945, 0.2500253060693014, 0.20223725268122403, 0.25011298539370974] MAE average: 0.22932215635958828\n",
      "--------------------------------------------------------------------------------------------------------------------------------------------------------------------------------------------------------\n"
     ]
    }
   ],
   "source": [
    "drop_labels = [\n",
    "    \"UserID\",\n",
    "    \"PostID\",\n",
    "    \"Country\",\n",
    "    \"PostType\",\n",
    "    \"PostWeekday\",\n",
    "    \"EngagementScore\",\n",
    "    \"PostHour\",\n",
    "    \"Age\",\n",
    "]\n",
    "\n",
    "age = df_normal[\"Age\"]\n",
    "\n",
    "df_numeric = df_normal.drop(drop_labels, axis=1)\n",
    "\n",
    "df_numeric[\"Followers\"] = df_numeric[\"Followers\"].apply(np.log)\n",
    "\n",
    "# no permutations here, because it hurts other models significantly\n",
    "df_numeric = pd.concat([df_numeric, age.apply(lambda x: x / age.max())], axis=1)\n",
    "\n",
    "target = df_normal[\"EngagementScore\"].to_numpy()\n",
    "\n",
    "for r in [\n",
    "    LinearRegression,\n",
    "    lambda: SVR(C=100),\n",
    "    lambda: GradientBoostingRegressor(),\n",
    "    lambda: Lasso(alpha=0.007),\n",
    "]:\n",
    "    X = KFold(\n",
    "        n_splits=5,\n",
    "        random_state=42,\n",
    "        shuffle=True,\n",
    "    ).split(df_numeric, df_normal[df_normal.columns[-1:]])\n",
    "    scores = []\n",
    "    mae_scores = []\n",
    "    for train_idx, test_idx in X:\n",
    "        reg_model = r()\n",
    "\n",
    "        train_target = target[train_idx]\n",
    "\n",
    "        train_data = df_numeric.to_numpy()[train_idx]\n",
    "        test_data = df_numeric.to_numpy()[test_idx]\n",
    "\n",
    "        reg_model.fit(train_data, train_target)\n",
    "        test_target = target[test_idx]\n",
    "        score = reg_model.score(test_data, test_target)\n",
    "        scores.append(score)\n",
    "        # For MAE I revert log of target variable, to know the error in relation to original target variable\n",
    "        mae_score = np.mean(\n",
    "            np.abs(np.exp(reg_model.predict(test_data)) - np.exp(target[test_idx]))\n",
    "        )\n",
    "        mae_scores.append(mae_score)\n",
    "    print(\"Estimator\", reg_model)\n",
    "    print(\"Scores\", scores, \"average:\", np.mean(scores))\n",
    "    print(\"MAE Scores\", mae_scores, \"MAE average:\", np.mean(mae_scores))\n",
    "    print(\"-\" * 200)"
   ]
  },
  {
   "cell_type": "markdown",
   "metadata": {},
   "source": [
    "A little difference. I don't think age matters in a metric, even if it could help us predict this metric. Let's revisit the result from a linear model, the one with additional feature `Comments/Likes`\n"
   ]
  },
  {
   "cell_type": "code",
   "execution_count": 15,
   "metadata": {},
   "outputs": [
    {
     "name": "stdout",
     "output_type": "stream",
     "text": [
      "Estimator LinearRegression()\n",
      "Scores [0.9887039154352659, 0.9877614142861043, 0.9886044023133914, 0.988582356862196, 0.9883084745077658] average: 0.9883921126809447\n",
      "MAE Scores [0.16831013312101806, 0.2012815436178295, 0.19716722164089162, 0.16649254166584618, 0.17582236076407987] MAE average: 0.18181476016193304\n",
      "--------------------------------------------------------------------------------------------------------------------------------------------------------------------------------------------------------\n"
     ]
    }
   ],
   "source": [
    "drop_labels = [\n",
    "    \"UserID\",\n",
    "    \"PostID\",\n",
    "    \"Country\",\n",
    "    \"PostType\",\n",
    "    \"PostWeekday\",\n",
    "    \"EngagementScore\",\n",
    "    \"PostHour\",\n",
    "    \"Age\",\n",
    "]\n",
    "\n",
    "df_numeric = df_normal.drop(drop_labels, axis=1)\n",
    "\n",
    "df_numeric[\"Followers\"] = df_numeric[\"Followers\"].apply(np.log)\n",
    "\n",
    "permutations = [\n",
    "    (df_numeric[\"Comments\"] / (df_numeric[\"Likes\"] + 1e-8)).rename(\"Comments/Likes\")\n",
    "]\n",
    "\n",
    "df_numeric = pd.concat([df_numeric] + permutations, axis=1)\n",
    "\n",
    "target = df_normal[\"EngagementScore\"].to_numpy()\n",
    "\n",
    "X = KFold(\n",
    "    n_splits=5,\n",
    "    random_state=42,\n",
    "    shuffle=True,\n",
    ").split(df_numeric, df_normal[df_normal.columns[-1:]])\n",
    "scores = []\n",
    "mae_scores = []\n",
    "for train_idx, test_idx in X:\n",
    "    reg_model = LinearRegression()\n",
    "\n",
    "    train_target = target[train_idx]\n",
    "\n",
    "    train_data = df_numeric.to_numpy()[train_idx]\n",
    "    test_data = df_numeric.to_numpy()[test_idx]\n",
    "\n",
    "    reg_model.fit(train_data, train_target)\n",
    "    test_target = target[test_idx]\n",
    "    score = reg_model.score(test_data, test_target)\n",
    "    scores.append(score)\n",
    "    # For MAE I revert log of target variable, to know the error in relation to original target variable\n",
    "    mae_score = np.mean(\n",
    "        np.abs(np.exp(reg_model.predict(test_data)) - np.exp(target[test_idx]))\n",
    "    )\n",
    "    mae_scores.append(mae_score)\n",
    "print(\"Estimator\", reg_model)\n",
    "print(\"Scores\", scores, \"average:\", np.mean(scores))\n",
    "print(\"MAE Scores\", mae_scores, \"MAE average:\", np.mean(mae_scores))\n",
    "print(\"-\" * 200)"
   ]
  },
  {
   "cell_type": "code",
   "execution_count": 16,
   "metadata": {},
   "outputs": [
    {
     "name": "stdout",
     "output_type": "stream",
     "text": [
      "[(-0.9983630390850023, 'Followers'),\n",
      " (0.1778924646460867, 'Comments/Likes'),\n",
      " (0.03844912680034778, 'Shares'),\n",
      " (0.022114256852259935, 'Comments'),\n",
      " (0.012760339663696267, 'Likes')]\n",
      "Bias: 3.086242025023376\n"
     ]
    }
   ],
   "source": [
    "pprint(\n",
    "    list(\n",
    "        sorted(\n",
    "            zip(reg_model.coef_, df_numeric.columns),\n",
    "            key=lambda x: np.abs(x[0]),\n",
    "            reverse=True,\n",
    "        )\n",
    "    )\n",
    ")\n",
    "print(\"Bias:\", reg_model.intercept_)"
   ]
  },
  {
   "cell_type": "markdown",
   "metadata": {},
   "source": [
    "As a result we can use this simplified function, as an approximation to the true metric. \n",
    "\n",
    "$Score=e^{0.177\\frac{Comments}{Likes + eps} + 0.038Share + 0.022Comments + 0.013Likes - 0.998ln(Followers) + 3.086}$\n",
    "\n",
    "Doesn't look very intuitive to me, but it's the best I've got so far. As an alternative, it is possible to use the best model with SVM.\n",
    "\n",
    "**Final thoughts and Conclusions**\n",
    "* `EngagementScore` and `Followers` needed `log` to become normally distributed and models could work better\n",
    "* A lot of features don't seem to be useful for this particular task, which I could find by iteratevly running models and algorithms for feature selection\n",
    "* I still didn't find the exact form of the `EngagementScore`\n",
    "* Even though linear model is still quite simple in the end, it doesn't look very intuitive. `Share`, `Comments` and `Likes` are summed with different weights, which makes sense. But for some reason \"Followers\" have negative coefficient. Maybe it means that engagement is more valuable, if person doesn't have a lot of followers? Also `Comments/Likes` means that if there is no likes, and at least 1 comment, this value can get prety large.\n",
    "* SVM was the best in the end, but I did very little hyperparameters tuning\n",
    "\n",
    "I am somewhat dissapointed I couldn't find the exact form of `EngagementScore`. To the point I started to think of making a genetic algorithm for trying different combination of features with some elementary funcitons. But it might not work and could be a huge time waste, so I decided I have to stop here 😅 Also there's a chance, that some feature is missing, for example `Views`"
   ]
  },
  {
   "cell_type": "markdown",
   "metadata": {},
   "source": []
  }
 ],
 "metadata": {
  "kernelspec": {
   "display_name": "test_task",
   "language": "python",
   "name": "python3"
  },
  "language_info": {
   "codemirror_mode": {
    "name": "ipython",
    "version": 3
   },
   "file_extension": ".py",
   "mimetype": "text/x-python",
   "name": "python",
   "nbconvert_exporter": "python",
   "pygments_lexer": "ipython3",
   "version": "3.11.9"
  }
 },
 "nbformat": 4,
 "nbformat_minor": 2
}
